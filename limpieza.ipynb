{
 "cells": [
  {
   "cell_type": "code",
   "execution_count": 1,
   "metadata": {},
   "outputs": [],
   "source": [
    "import pandas as pd"
   ]
  },
  {
   "cell_type": "code",
   "execution_count": null,
   "metadata": {},
   "outputs": [],
   "source": [
    "# Ruta del archivo CSV\n",
    "file_path = 'C:/Users/andre/limpieza_csv/data/Reporte General de Casos de Reclamo.csv'  # Colocar la ruta del archivo aqui porfis\n",
    "\n",
    "# Cargargamos el archivo\n",
    "df = pd.read_csv(file_path)\n",
    "\n"
   ]
  },
  {
   "cell_type": "code",
   "execution_count": 3,
   "metadata": {},
   "outputs": [],
   "source": [
    "# Colocar aqui las palabras que se desean buscar\n",
    "palabras_clave = [\"calidad\", \"problema\"] "
   ]
  },
  {
   "cell_type": "code",
   "execution_count": 4,
   "metadata": {},
   "outputs": [],
   "source": [
    "# Función para buscar palabras en el texto\n",
    "def busca_palabras(texto, palabras_clave):\n",
    "    for palabra in palabras_clave:\n",
    "        if palabra in texto:\n",
    "            return \"si\"\n",
    "    return \"no\"\n",
    "\n",
    "# Aplicar la función a la columna 'user_description' para crear la columna 'resultado'\n",
    "df['encontro palabra'] = df['user_description'].apply(lambda x: busca_palabras(str(x), palabras_clave))"
   ]
  },
  {
   "cell_type": "code",
   "execution_count": 6,
   "metadata": {},
   "outputs": [],
   "source": [
    "# colocar aqui la ruta en la que vas a almacenar el archivo\n",
    "output_path = 'C:/Users/andre/limpieza_csv/outputs/archivo_limpio.csv'  # Especifica la ruta de salida\n",
    "df.to_csv(output_path, index=False)"
   ]
  }
 ],
 "metadata": {
  "kernelspec": {
   "display_name": "Python 3",
   "language": "python",
   "name": "python3"
  },
  "language_info": {
   "codemirror_mode": {
    "name": "ipython",
    "version": 3
   },
   "file_extension": ".py",
   "mimetype": "text/x-python",
   "name": "python",
   "nbconvert_exporter": "python",
   "pygments_lexer": "ipython3",
   "version": "3.12.4"
  }
 },
 "nbformat": 4,
 "nbformat_minor": 2
}
